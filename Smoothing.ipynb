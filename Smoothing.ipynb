{
 "cells": [
  {
   "cell_type": "markdown",
   "metadata": {},
   "source": [
    "# SMOOTHING ANALYSIS B\n",
    "### 8-day Reflectance"
   ]
  },
  {
   "cell_type": "code",
   "execution_count": 9,
   "metadata": {},
   "outputs": [],
   "source": [
    "import ipywidgets as widgets\n",
    "from ipywidgets import fixed, Layout, Button, Box\n",
    "from ipywidgets import Layout, HTML, VBox"
   ]
  },
  {
   "cell_type": "code",
   "execution_count": 10,
   "metadata": {},
   "outputs": [],
   "source": [
    "#LOADING THE NDVI DATA\n",
    "%run Loading_NDVI.ipynb"
   ]
  },
  {
   "cell_type": "code",
   "execution_count": 11,
   "metadata": {},
   "outputs": [],
   "source": [
    "#LOADING THE REFLECTNACE DATA\n",
    "%run Loading_Reflectance.ipynb"
   ]
  },
  {
   "cell_type": "code",
   "execution_count": 12,
   "metadata": {},
   "outputs": [],
   "source": [
    "#RUNNING THE FUNCTIONS\n",
    "%run Reflectance_smoothing.ipynb"
   ]
  },
  {
   "cell_type": "code",
   "execution_count": 13,
   "metadata": {},
   "outputs": [],
   "source": [
    "#CREATING THE WIDGETS\n",
    "\n",
    "#location widget\n",
    "loc_list = list(set(ndvi_MOD.index.values))\n",
    "loc_list.sort()\n",
    "location = widgets.Dropdown(\n",
    "    options=loc_list,\n",
    "    value='AFG01a',\n",
    "    description='Select point:')\n",
    "\n",
    "#satellite widget\n",
    "satellite = widgets.Dropdown(\n",
    "    options=['MOD', 'MYD', 'MXD'],\n",
    "    value='MXD',\n",
    "    description='Satellite:')\n",
    "\n",
    "# asymetric p widget\n",
    "pval = widgets.BoundedFloatText(\n",
    "    value=0.9,\n",
    "    min=0.05,\n",
    "    max=0.95,\n",
    "    step=0.05,\n",
    "    description='p values:'\n",
    ")\n",
    "\n",
    "pvalbool = widgets.Checkbox(\n",
    "    value=False,\n",
    "    description='No pvalue',\n",
    ")\n",
    "\n",
    "\n",
    "# ndvi srange widget\n",
    "l1 = widgets.FloatRangeSlider(\n",
    "    value=[-2, 4],\n",
    "    min=-10,\n",
    "    max=10,\n",
    "    step=0.5,\n",
    "    description='NDVI:')\n",
    "l1.style.handle_color = 'lightblue'\n",
    "\n",
    "#reflectance srange widget\n",
    "l2 = widgets.FloatRangeSlider(\n",
    "    value=[-2, 4],\n",
    "    min=-10,\n",
    "    max=10,\n",
    "    step=0.5,\n",
    "    description='Reflectance:')\n",
    "l2.style.handle_color = 'lightblue'\n",
    "\n",
    "#srange step widget\n",
    "s = widgets.FloatSlider(\n",
    "    value=0.2,\n",
    "    min=0.05,\n",
    "    max=0.6,\n",
    "    step=0.05,\n",
    "    description='step:')\n",
    "s.style.handle_color = 'lightblue'\n",
    "\n",
    "#year widget\n",
    "year = widgets.Dropdown(\n",
    "    options=list(range(2002,2020)),\n",
    "    value=2010,\n",
    "    description='Year:')\n",
    "\n",
    "#srange step widget\n",
    "month = widgets.IntSlider(\n",
    "    value=1,\n",
    "    min=1,\n",
    "    max=12,\n",
    "    step=1,\n",
    "    description='Offset')\n",
    "month.style.handle_color = 'lightblue'\n",
    "\n",
    "d1 = widgets.DatePicker(\n",
    "    description='from',\n",
    "    value = datetime.date(2002,7,4),\n",
    ")\n",
    "\n",
    "d2 = widgets.DatePicker(\n",
    "    description='to',\n",
    "    value = datetime.date(2020,5,16)\n",
    ")\n",
    "\n",
    "ybool = widgets.Checkbox(\n",
    "    value=True,\n",
    "    description='automatic',\n",
    ")\n",
    "\n",
    "ylimits = widgets.FloatRangeSlider(\n",
    "    value=[0, 0.5],\n",
    "    min=-0.5,\n",
    "    max=1,\n",
    "    step=0.1,\n",
    "    description='Y axis limits:')\n",
    "ylimits.style.handle_color = 'lightblue'"
   ]
  },
  {
   "cell_type": "code",
   "execution_count": 14,
   "metadata": {},
   "outputs": [],
   "source": [
    "#DISPLAYED CURVES WIDGETS\n",
    "\n",
    "A0 = widgets.Checkbox(\n",
    "    value=True,\n",
    "    description=f\"<b><font color='blue'>{'A0 : '}</b> Raw NDVI filtered\",\n",
    "    indent=False\n",
    ")\n",
    "\n",
    "B1 = widgets.Checkbox(\n",
    "    value=True,\n",
    "    description=f\"<b><font color='red'>{'B1 : '}</b> Derived NDVI + filtered\",\n",
    "    indent=False\n",
    ")\n",
    "\n",
    "B2 = widgets.Checkbox(\n",
    "    value=True,\n",
    "    description=f\"<b><font color='green'>{'B2 : '}</b> Reflectance filtered + NDVI derived\",\n",
    "    indent=False\n",
    ")\n",
    "\n",
    "\n",
    "switch = widgets.VBox([widgets.HTML(value = f\"<b>{'Select curves to display'}</b>\"), A0, B1, B2], \n",
    "                           layout = Layout(display='flex', border = 'solid', width='100%'))"
   ]
  },
  {
   "cell_type": "code",
   "execution_count": 15,
   "metadata": {},
   "outputs": [],
   "source": [
    "subox_layout = Layout(display='flex',\n",
    "                    width='100%')\n",
    "\n",
    "ui1 = widgets.VBox([location, satellite, pval, pvalbool], layout=subox_layout)\n",
    "ui2 = widgets.VBox([widgets.HTML(value = f\"<b><font color='darkcyan'>{'Srange'}</b>\"), l1, l2, s], layout=subox_layout)\n",
    "ui3 = widgets.VBox([widgets.HTML(value = f\"<b><font color='darkcyan'>{'Date Range'}</b>\"), d1, d2], layout=subox_layout)\n",
    "ui4 = widgets.VBox([widgets.HTML(value = f\"<b><font color='darkcyan'>{'Year plot'}</b>\"), year, month], layout=subox_layout)\n",
    "ui5 = widgets.VBox([widgets.HTML(value = f\"<b><font color='darkcyan'>{'Y axis'}</b>\"), ylimits, ybool], layout=subox_layout)\n",
    "\n",
    "ui = widgets.VBox([switch, ui1, ui2, ui3, ui4, ui5])\n"
   ]
  },
  {
   "cell_type": "code",
   "execution_count": 16,
   "metadata": {},
   "outputs": [
    {
     "data": {
      "application/vnd.jupyter.widget-view+json": {
       "model_id": "6ee30b81f14440b784623d9c8e447f43",
       "version_major": 2,
       "version_minor": 0
      },
      "text/plain": [
       "HBox(children=(Box(children=(VBox(children=(VBox(children=(HTML(value='<b>Select curves to display</b>'), Chec…"
      ]
     },
     "metadata": {},
     "output_type": "display_data"
    }
   ],
   "source": [
    "out = widgets.interactive_output(main, \n",
    "                                      {'A0':A0,\n",
    "                                       'B1':B1,\n",
    "                                       'B2':B2,\n",
    "                                       'ndvi_MD': fixed((ndvi_MOD, ndvi_MYD, ndvi_MXD)), \n",
    "                                       'ref_MD': fixed((ref_MOD, ref_MYD, ref_MXD)),\n",
    "                                       'location':location,\n",
    "                                       'latlon': fixed(latlon),\n",
    "                                       'satellite': satellite, \n",
    "                                       'pvalue': pval, \n",
    "                                       'nopval': pvalbool,\n",
    "                                       'lrange1': l1, 'lrange2': l2, 'step': s, \n",
    "                                       'nd': fixed(ndvi_nd),\n",
    "                                       'date_begin': d1,\n",
    "                                       'date_end': d2,\n",
    "                                       'year': year,\n",
    "                                       'month': month,\n",
    "                                       'yauto': ybool,\n",
    "                                       'ylimits': ylimits})\n",
    "\n",
    "\n",
    "box_layout = Layout(display='flex',\n",
    "                    flex_flow='column',\n",
    "                    align_items='center',\n",
    "                    width='50%')\n",
    "\n",
    "\n",
    "box = widgets.HBox([Box([ui], layout=box_layout), Box([out], layout=Layout(height='650px', overflow_y='auto'))])\n",
    "box"
   ]
  },
  {
   "cell_type": "code",
   "execution_count": null,
   "metadata": {},
   "outputs": [],
   "source": []
  }
 ],
 "metadata": {
  "kernelspec": {
   "display_name": "Python 3",
   "language": "python",
   "name": "python3"
  },
  "language_info": {
   "codemirror_mode": {
    "name": "ipython",
    "version": 3
   },
   "file_extension": ".py",
   "mimetype": "text/x-python",
   "name": "python",
   "nbconvert_exporter": "python",
   "pygments_lexer": "ipython3",
   "version": "3.8.1"
  }
 },
 "nbformat": 4,
 "nbformat_minor": 4
}
