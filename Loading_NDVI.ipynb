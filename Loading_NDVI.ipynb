{
 "cells": [
  {
   "cell_type": "markdown",
   "metadata": {},
   "source": [
    "## Loading NDVI"
   ]
  },
  {
   "cell_type": "code",
   "execution_count": 8,
   "metadata": {},
   "outputs": [],
   "source": [
    "import array\n",
    "import datetime\n",
    "import matplotlib.pyplot as plt\n",
    "import numpy as np\n",
    "import os\n",
    "import pandas as pd\n",
    "import pickle\n",
    "from termcolor import colored\n",
    "import time\n",
    "import xarray as xr"
   ]
  },
  {
   "cell_type": "markdown",
   "metadata": {},
   "source": [
    "**Functions**"
   ]
  },
  {
   "cell_type": "code",
   "execution_count": 9,
   "metadata": {},
   "outputs": [],
   "source": [
    "def fromstring(x):\n",
    "    \n",
    "    '''Converts string to datetime object'''\n",
    "    \n",
    "    try:\n",
    "        d = datetime.datetime.strptime(x, '%d/%m/%Y').date()\n",
    "    except:\n",
    "        d = datetime.datetime.strptime(x, '%Y-%m-%d').date()\n",
    "        \n",
    "    return d\n",
    "\n",
    "def fromjulian(x):\n",
    "    \n",
    "    '''Converts julian to datetime object'''\n",
    "\n",
    "    return datetime.datetime.strptime(x, '%Y%j').date()"
   ]
  },
  {
   "cell_type": "markdown",
   "metadata": {},
   "source": [
    "**Loading**"
   ]
  },
  {
   "cell_type": "code",
   "execution_count": 10,
   "metadata": {},
   "outputs": [],
   "source": [
    "ndvi_nd = -3000"
   ]
  },
  {
   "cell_type": "code",
   "execution_count": 11,
   "metadata": {},
   "outputs": [],
   "source": [
    "# loading ndvi_MOD data from csv\n",
    "ndvi_MOD = pd.read_csv(\n",
    "    'data/MOD13A2-MOD13A2-006-results.csv', \n",
    "    index_col=0, \n",
    "    usecols = ['ID', \n",
    "               'Date', \n",
    "               'MOD13A2_006__1_km_16_days_NDVI', \n",
    "               'MOD13A2_006__1_km_16_days_composite_day_of_the_year'],\n",
    "    dtype = {'MOD13A2_006__1_km_16_days_composite_day_of_the_year': int})\n",
    "\n",
    "\n",
    "#renaming the columns\n",
    "ndvi_MOD = ndvi_MOD.rename(columns={\"MOD13A2_006__1_km_16_days_NDVI\": \"NDVI\", \n",
    "                        \"MOD13A2_006__1_km_16_days_composite_day_of_the_year\": \"Composite_date\"})\n",
    "\n",
    "\n",
    "# Convert string Date to datetime.date\n",
    "ndvi_MOD['Date'] = ndvi_MOD['Date'].apply(fromstring)\n",
    "\n",
    "\n",
    "# Convert composite_date from julian to datetime\n",
    "# Add a True/False column to keep track of the values with the same composite_date\n",
    "\n",
    "compo = []\n",
    "same_compo = []\n",
    "\n",
    "for i in range(len(ndvi_MOD)):\n",
    "    \n",
    "    d = ndvi_MOD['Date'][i]\n",
    "    c = ndvi_MOD['Composite_date'][i]\n",
    "    \n",
    "    if c != -1:    \n",
    "        if (d.month == 12) and (c<20):\n",
    "            compo.append(fromjulian(str(d.year+1)+str(c)))\n",
    "        else:\n",
    "            compo.append(fromjulian(str(d.year)+str(c)))\n",
    "    else:\n",
    "        # nodata so we don't care about the date\n",
    "        compo.append(d)\n",
    "    \n",
    "    if (i==0):\n",
    "        same_compo.append(False)\n",
    "    elif (compo[i]==compo[i-1]):\n",
    "        same_compo.append(True)\n",
    "    else:\n",
    "        same_compo.append(False)\n",
    "            \n",
    "ndvi_MOD['Composite_date'] = compo   \n",
    "ndvi_MOD['Same_composite'] = same_compo "
   ]
  },
  {
   "cell_type": "code",
   "execution_count": 12,
   "metadata": {},
   "outputs": [],
   "source": [
    "# loading MYD data from csv\n",
    "ndvi_MYD = pd.read_csv(\n",
    "    'data/MYD13A2-MYD13A2-006-results.csv', \n",
    "    index_col=0, \n",
    "    usecols = ['ID', \n",
    "               'Date', \n",
    "               'MYD13A2_006__1_km_16_days_NDVI', \n",
    "               'MYD13A2_006__1_km_16_days_composite_day_of_the_year'],\n",
    "    dtype = {'MYD13A2_006__1_km_16_days_composite_day_of_the_year': int})\n",
    "\n",
    "\n",
    "#renaming the columns\n",
    "ndvi_MYD = ndvi_MYD.rename(columns={\"MYD13A2_006__1_km_16_days_NDVI\": \"NDVI\", \n",
    "                        \"MYD13A2_006__1_km_16_days_composite_day_of_the_year\": \"Composite_date\"})\n",
    "\n",
    "\n",
    "# Convert string Date to datetime.date\n",
    "ndvi_MYD['Date'] = ndvi_MYD['Date'].apply(fromstring)\n",
    "\n",
    "\n",
    "# Convert composite_date from julian to datetime\n",
    "# Add a True/False column to keep track of the values with the same composite_date\n",
    "\n",
    "compo = []\n",
    "same_compo = []\n",
    "\n",
    "for i in range(len(ndvi_MYD)):\n",
    "    \n",
    "    d = ndvi_MYD['Date'][i]\n",
    "    c = ndvi_MYD['Composite_date'][i]\n",
    "    \n",
    "    if c != -1:    \n",
    "        if (d.month == 12) and (c<20):\n",
    "            compo.append(fromjulian(str(d.year+1)+str(c)))\n",
    "        else:\n",
    "            compo.append(fromjulian(str(d.year)+str(c)))\n",
    "    else:\n",
    "        # nodata so we don't care about the date\n",
    "        compo.append(d)\n",
    "    \n",
    "    if (i==0):\n",
    "        same_compo.append(False)\n",
    "    elif (compo[i]==compo[i-1]):\n",
    "        same_compo.append(True)\n",
    "    else:\n",
    "        same_compo.append(False)\n",
    "            \n",
    "ndvi_MYD['Composite_date'] = compo   \n",
    "ndvi_MYD['Same_composite'] = same_compo "
   ]
  },
  {
   "cell_type": "code",
   "execution_count": 13,
   "metadata": {},
   "outputs": [],
   "source": [
    "#creating MXD\n",
    "\n",
    "#changing the index to numbers\n",
    "number_index1 = pd.Index(range(0,2*len(ndvi_MYD),2))\n",
    "number_index2 = pd.Index(range(1,2*len(ndvi_MYD)+1,2))\n",
    "\n",
    "ndvi_MYD_nb = ndvi_MYD.set_index(number_index1)\n",
    "ndvi_MYD_nb['ID'] = ndvi_MYD.index\n",
    "ndvi_MOD_nb = ndvi_MOD.set_index(number_index2)\n",
    "ndvi_MOD_nb['ID'] = ndvi_MOD.index\n",
    "\n",
    "\n",
    "#concatenating and resetting ID as index\n",
    "ndvi_MXD = pd.concat([ndvi_MYD_nb, ndvi_MOD_nb]).sort_index()\n",
    "ndvi_MXD = ndvi_MXD.set_index('ID')\n",
    "\n",
    "#re-run same_composite\n",
    "same_compo = []\n",
    "for i in range(len(ndvi_MXD)):\n",
    "    if (i==0 or i==1):\n",
    "        same_compo.append(False)\n",
    "    elif (ndvi_MXD['Composite_date'][i]==ndvi_MXD['Composite_date'][i-1] or ndvi_MXD['Composite_date'][i]==ndvi_MXD['Composite_date'][i-2]):\n",
    "        same_compo.append(True)\n",
    "    else:\n",
    "        same_compo.append(False)\n",
    "              \n",
    "ndvi_MXD['Same_composite'] = same_compo "
   ]
  },
  {
   "cell_type": "markdown",
   "metadata": {},
   "source": [
    "**ID lat Lon**"
   ]
  },
  {
   "cell_type": "code",
   "execution_count": 14,
   "metadata": {},
   "outputs": [],
   "source": [
    "#Creating lat lon dictionnary\n",
    "\n",
    "latlon = {}\n",
    "\n",
    "pd_latlon = pd.read_csv(\n",
    "    'data/MYD13A2-MYD13A2-006-results.csv', \n",
    "    index_col=0, \n",
    "    usecols = ['ID', \n",
    "               'Latitude', \n",
    "               'Longitude'])\n",
    "\n",
    "dict_index = set(pd_latlon.index)\n",
    "\n",
    "for location in dict_index:\n",
    "    latlon[location] = (round(pd_latlon.loc[location]['Latitude'][0],3), round(pd_latlon.loc[location]['Longitude'][0],3))"
   ]
  }
 ],
 "metadata": {
  "kernelspec": {
   "display_name": "Python 3",
   "language": "python",
   "name": "python3"
  },
  "language_info": {
   "codemirror_mode": {
    "name": "ipython",
    "version": 3
   },
   "file_extension": ".py",
   "mimetype": "text/x-python",
   "name": "python",
   "nbconvert_exporter": "python",
   "pygments_lexer": "ipython3",
   "version": "3.8.1"
  }
 },
 "nbformat": 4,
 "nbformat_minor": 4
}
